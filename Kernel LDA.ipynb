{
 "cells": [
  {
   "cell_type": "code",
   "execution_count": 1,
   "metadata": {
    "collapsed": true
   },
   "outputs": [],
   "source": [
    "# importing modules\n",
    "import numpy as np\n",
    "import numpy.linalg as LA\n",
    "from sklearn import svm\n",
    "from scipy.spatial.distance import pdist, squareform\n",
    "import scipy"
   ]
  },
  {
   "cell_type": "code",
   "execution_count": 2,
   "metadata": {
    "collapsed": true
   },
   "outputs": [],
   "source": [
    "f = open(\"/home/tandon/IIIT-H/3rd/SMAI/arcene/arcene_train.data\")\n",
    "X = np.zeros((100, 10000))\n",
    "row = 0\n",
    "col = 0\n",
    "for line in f:\n",
    "    for token in line.split():\n",
    "        X[row, col] = int(token)\n",
    "        col += 1\n",
    "    col = 0\n",
    "    row += 1\n",
    "f.close()"
   ]
  },
  {
   "cell_type": "code",
   "execution_count": 3,
   "metadata": {
    "collapsed": false
   },
   "outputs": [
    {
     "name": "stdout",
     "output_type": "stream",
     "text": [
      "(100,)\n"
     ]
    }
   ],
   "source": [
    "# read the class labels associated with the training data\n",
    "f = open(\"/home/tandon/IIIT-H/3rd/SMAI/arcene/arcene_train.labels\")\n",
    "labels = np.zeros(100)\n",
    "i = 0\n",
    "for line in f:\n",
    "    digit = float(line.strip())\n",
    "    labels[i] = digit\n",
    "    i += 1\n",
    "print(labels.shape)\n",
    "f.close()"
   ]
  },
  {
   "cell_type": "code",
   "execution_count": 4,
   "metadata": {
    "collapsed": false
   },
   "outputs": [
    {
     "data": {
      "text/plain": [
       "-1.0"
      ]
     },
     "execution_count": 4,
     "metadata": {},
     "output_type": "execute_result"
    }
   ],
   "source": [
    "labels[4]"
   ]
  },
  {
   "cell_type": "code",
   "execution_count": 5,
   "metadata": {
    "collapsed": true
   },
   "outputs": [],
   "source": [
    "def rbf_value(x1, x2, gamma):\n",
    "    diff = x1 - x2\n",
    "    mod_diff = LA.norm(diff)**2\n",
    "    return np.exp(-1 * gamma * mod_diff)"
   ]
  },
  {
   "cell_type": "code",
   "execution_count": 6,
   "metadata": {
    "collapsed": true
   },
   "outputs": [],
   "source": [
    "def project_point(point, X, alphas, gamma):\n",
    "    kvec = np.array([np.sum((point - row)**2) for row in X])\n",
    "    kvec = np.exp(- gamma * kvec)\n",
    "    return alphas.T.dot(kvec)\n",
    "    print('Projected point')"
   ]
  },
  {
   "cell_type": "code",
   "execution_count": 7,
   "metadata": {
    "collapsed": false
   },
   "outputs": [
    {
     "ename": "NameError",
     "evalue": "name 'kernel_pca' is not defined",
     "output_type": "error",
     "traceback": [
      "\u001b[0;31m---------------------------------------------------------------------------\u001b[0m",
      "\u001b[0;31mNameError\u001b[0m                                 Traceback (most recent call last)",
      "\u001b[0;32m<ipython-input-7-49a11c45ffc4>\u001b[0m in \u001b[0;36m<module>\u001b[0;34m()\u001b[0m\n\u001b[1;32m      2\u001b[0m \u001b[0mcomponents\u001b[0m \u001b[0;34m=\u001b[0m \u001b[0;36m1\u001b[0m\u001b[0;34m\u001b[0m\u001b[0m\n\u001b[1;32m      3\u001b[0m \u001b[0mgamma\u001b[0m \u001b[0;34m=\u001b[0m \u001b[0;36m1\u001b[0m\u001b[0;34m/\u001b[0m\u001b[0;34m(\u001b[0m\u001b[0mnp\u001b[0m\u001b[0;34m.\u001b[0m\u001b[0mvar\u001b[0m\u001b[0;34m(\u001b[0m\u001b[0mX\u001b[0m\u001b[0;34m)\u001b[0m\u001b[0;34m*\u001b[0m\u001b[0;36m50\u001b[0m\u001b[0;34m)\u001b[0m\u001b[0;34m\u001b[0m\u001b[0m\n\u001b[0;32m----> 4\u001b[0;31m \u001b[0malphas\u001b[0m\u001b[0;34m,\u001b[0m \u001b[0mlambdas\u001b[0m \u001b[0;34m=\u001b[0m \u001b[0mkernel_pca\u001b[0m\u001b[0;34m(\u001b[0m\u001b[0mX\u001b[0m\u001b[0;34m,\u001b[0m \u001b[0mgamma\u001b[0m\u001b[0;34m,\u001b[0m \u001b[0mcomponents\u001b[0m\u001b[0;34m)\u001b[0m\u001b[0;34m\u001b[0m\u001b[0m\n\u001b[0m",
      "\u001b[0;31mNameError\u001b[0m: name 'kernel_pca' is not defined"
     ]
    }
   ],
   "source": [
    "# finding the normalized eigen vectors associated with the training data\n",
    "components = 1\n",
    "gamma = 1/(np.var(X)*50)\n",
    "alphas, lambdas = kernel_pca(X, gamma, components)"
   ]
  },
  {
   "cell_type": "code",
   "execution_count": 8,
   "metadata": {
    "collapsed": true
   },
   "outputs": [],
   "source": [
    "def create_M(X, category):\n",
    "    gamma = 1/(np.var(X)*50)\n",
    "    num_samples = X.shape[0]\n",
    "    num_category = category.shape[0]\n",
    "    M = np.zeros(num_samples)\n",
    "    for i in range(num_samples):\n",
    "        for j in range(num_category):\n",
    "            M[i] += rbf_value(X[i], category[j], gamma)\n",
    "        M[i] = M[i]/num_category\n",
    "    return M\n",
    "\n",
    "def create_K(X, category):\n",
    "    gamma = 1/(np.var(X)*50)\n",
    "    num_samples = X.shape[0]\n",
    "    num_category = category.shape[0]\n",
    "    K = np.zeros((num_samples, num_category))\n",
    "    for i in range(num_samples):\n",
    "        for j in range(num_category):\n",
    "            K[i, j] = rbf_value(X[i], category[j], gamma)\n",
    "    return K"
   ]
  },
  {
   "cell_type": "code",
   "execution_count": 9,
   "metadata": {
    "collapsed": false
   },
   "outputs": [
    {
     "name": "stdout",
     "output_type": "stream",
     "text": [
      "X shape (100, 10000)\n",
      "positive_class shape 44\n",
      "negative_class shape 56\n",
      "M_diff shape (100,)\n",
      "K_positive shape (100, 44)\n",
      "K_negative shape (100, 56)\n",
      "interim_positive shape (44, 44)\n",
      "interim_negative shape (56, 56)\n",
      "N_positive shape (100, 100)\n",
      "N_negative shape (100, 100)\n",
      "N_inv shape (100, 100)\n",
      "alpha shape (100,)\n"
     ]
    }
   ],
   "source": [
    "num_samples = X.shape[0]\n",
    "bool_idx = (labels > 0)\n",
    "positive_class = X[bool_idx, :]\n",
    "num_positive = positive_class.shape[0]\n",
    "print('X shape', X.shape)\n",
    "print('positive_class shape', num_positive)\n",
    "\n",
    "bool_idx = (labels < 0)\n",
    "negative_class = X[bool_idx, :]\n",
    "num_negative = negative_class.shape[0]\n",
    "print('negative_class shape', num_negative)\n",
    "\n",
    "M_positive = create_M(X, positive_class)\n",
    "M_negative = create_M(X, negative_class)\n",
    "\n",
    "\n",
    "M_diff = M_negative - M_positive\n",
    "print('M_diff shape', M_diff.shape)\n",
    "\n",
    "K_positive = create_K(X, positive_class)\n",
    "K_negative = create_K(X, negative_class)\n",
    "\n",
    "print('K_positive shape', K_positive.shape)\n",
    "print('K_negative shape', K_negative.shape)\n",
    "\n",
    "interim_positive = np.eye(num_positive) - np.ones((num_positive, num_positive))*(1/num_positive)\n",
    "interim_negative = np.eye(num_negative) - np.ones((num_negative, num_negative))*(1/num_negative)\n",
    "\n",
    "print('interim_positive shape', interim_positive.shape)\n",
    "print('interim_negative shape', interim_negative.shape)\n",
    "\n",
    "N_positive = K_positive.dot(interim_positive)\n",
    "N_positive = N_positive.dot(K_positive.T)\n",
    "\n",
    "N_negative = K_negative.dot(interim_negative)\n",
    "N_negative = N_negative.dot(K_negative.T)\n",
    "\n",
    "print('N_positive shape', N_positive.shape)\n",
    "print('N_negative shape', N_negative.shape)\n",
    "\n",
    "N = N_positive + N_negative\n",
    "\n",
    "N_inv = LA.inv(N)\n",
    "print('N_inv shape', N_inv.shape)\n",
    "\n",
    "alpha = N_inv.dot(M_diff)\n",
    "print('alpha shape', alpha.shape)\n"
   ]
  },
  {
   "cell_type": "code",
   "execution_count": 10,
   "metadata": {
    "collapsed": true
   },
   "outputs": [],
   "source": [
    "def project_point(point, X, alphas, gamma):\n",
    "    kvec = np.array([np.sum((point - row)**2) for row in X])\n",
    "    kvec = np.exp(- gamma * kvec)\n",
    "    return alphas.T.dot(kvec)"
   ]
  },
  {
   "cell_type": "code",
   "execution_count": 11,
   "metadata": {
    "collapsed": false
   },
   "outputs": [
    {
     "name": "stdout",
     "output_type": "stream",
     "text": [
      "Y shape (100, 1)\n",
      "labels shape (100,)\n"
     ]
    },
    {
     "data": {
      "text/plain": [
       "SVC(C=1.0, cache_size=200, class_weight=None, coef0=0.0,\n",
       "  decision_function_shape=None, degree=3, gamma='auto', kernel='rbf',\n",
       "  max_iter=-1, probability=False, random_state=None, shrinking=True,\n",
       "  tol=0.001, verbose=False)"
      ]
     },
     "execution_count": 11,
     "metadata": {},
     "output_type": "execute_result"
    }
   ],
   "source": [
    "Y = np.zeros(num_samples)\n",
    "gamma = 1/(np.var(X)*50)\n",
    "clf = svm.SVC()\n",
    "for i in range(num_samples):\n",
    "    Y[i] = project_point(X[i], X, alpha, gamma)\n",
    "\n",
    "Y = np.reshape(Y, (num_samples, 1))\n",
    "print('Y shape', Y.shape)\n",
    "print('labels shape', labels.shape)\n",
    "\n",
    "clf.fit(Y, labels)"
   ]
  },
  {
   "cell_type": "code",
   "execution_count": 12,
   "metadata": {
    "collapsed": true
   },
   "outputs": [],
   "source": [
    "# read the validation data\n",
    "f = open(\"/home/tandon/IIIT-H/3rd/SMAI/arcene/arcene_valid.data\")\n",
    "X_valid = np.zeros((100, 10000))\n",
    "row = 0\n",
    "col = 0\n",
    "for line in f:\n",
    "    for token in line.split():\n",
    "        X_valid[row, col] = int(token)\n",
    "        col += 1\n",
    "    col = 0\n",
    "    row += 1\n",
    "f.close()\n",
    "num_samples = X_valid.shape[0]"
   ]
  },
  {
   "cell_type": "code",
   "execution_count": 13,
   "metadata": {
    "collapsed": true
   },
   "outputs": [],
   "source": [
    "# read the class labels associated with the validation data\n",
    "f = open(\"/home/tandon/IIIT-H/3rd/SMAI/arcene/arcene_valid.labels\")\n",
    "labels_valid = np.zeros(100)\n",
    "i = 0\n",
    "for line in f:\n",
    "    digit = float(line.strip())\n",
    "    labels_valid[i] = digit\n",
    "    i += 1\n",
    "f.close()"
   ]
  },
  {
   "cell_type": "code",
   "execution_count": 14,
   "metadata": {
    "collapsed": false
   },
   "outputs": [
    {
     "name": "stdout",
     "output_type": "stream",
     "text": [
      "Correct Efficiency:  0.46\n"
     ]
    }
   ],
   "source": [
    "# validating our training \n",
    "correct = 0\n",
    "gamma = 1/(np.var(X)*50)\n",
    "for i in range(num_samples):\n",
    "    projection = project_point(X_valid[i], X_valid, alpha, gamma)\n",
    "#     print('Projection', projection)\n",
    "    if clf.predict(projection)[0] > 0:\n",
    "        if labels_valid[i] > 0:\n",
    "            correct += 1\n",
    "    else:\n",
    "        if labels_valid[i] < 0:\n",
    "            correct += 1\n",
    "print('Correct Efficiency: ', correct/100)\n",
    "            \n",
    "    \n",
    "    "
   ]
  },
  {
   "cell_type": "markdown",
   "metadata": {
    "collapsed": true
   },
   "source": [
    "### Observation\n",
    "\n",
    "For arcene it gave 0.46\n",
    "\n",
    "For dorothea it gave 0.85\n"
   ]
  },
  {
   "cell_type": "code",
   "execution_count": null,
   "metadata": {
    "collapsed": true
   },
   "outputs": [],
   "source": []
  }
 ],
 "metadata": {
  "anaconda-cloud": {},
  "kernelspec": {
   "display_name": "Python [default]",
   "language": "python",
   "name": "python3"
  },
  "language_info": {
   "codemirror_mode": {
    "name": "ipython",
    "version": 3
   },
   "file_extension": ".py",
   "mimetype": "text/x-python",
   "name": "python",
   "nbconvert_exporter": "python",
   "pygments_lexer": "ipython3",
   "version": "3.5.2"
  }
 },
 "nbformat": 4,
 "nbformat_minor": 1
}
